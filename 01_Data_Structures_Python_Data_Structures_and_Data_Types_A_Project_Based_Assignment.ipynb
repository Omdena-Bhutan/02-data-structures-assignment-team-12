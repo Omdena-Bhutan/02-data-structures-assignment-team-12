{
  "nbformat": 4,
  "nbformat_minor": 0,
  "metadata": {
    "colab": {
      "provenance": [],
      "authorship_tag": "ABX9TyOXFSxDPCVGudq1OvehJL84",
      "include_colab_link": true
    },
    "kernelspec": {
      "name": "python3",
      "display_name": "Python 3"
    },
    "language_info": {
      "name": "python"
    }
  },
  "cells": [
    {
      "cell_type": "markdown",
      "metadata": {
        "id": "view-in-github",
        "colab_type": "text"
      },
      "source": [
        "<a href=\"https://colab.research.google.com/github/Omdena-Bhutan/02-data-structures-assignment-team-12/blob/main/01_Data_Structures_Python_Data_Structures_and_Data_Types_A_Project_Based_Assignment.ipynb\" target=\"_parent\"><img src=\"https://colab.research.google.com/assets/colab-badge.svg\" alt=\"Open In Colab\"/></a>"
      ]
    },
    {
      "cell_type": "code",
      "execution_count": 1,
      "metadata": {
        "id": "nz4M81TUypWs"
      },
      "outputs": [],
      "source": [
        "#Fantasy Quest Inventory Management System\n",
        "# -----------------------------------------\n",
        "# Author: Pema Choki Group 12\n",
        "# Description: This project demonstrates the use of Python's fundamental data types and data structures in the context of a role-playing game character management system.\n"
      ]
    },
    {
      "cell_type": "code",
      "source": [
        "# ------------------------------------------------------------\n",
        "# Part 1: Character Profile (Dictionary + Basic Data Types)\n",
        "# ------------------------------------------------------------\n",
        "\n",
        "character_profile = {\n",
        "    'name': \"Alistair the Brave\",\n",
        "    'level': 1,\n",
        "    'health': 100,\n",
        "    'mana': 50,\n",
        "    'gold': 50.75,\n",
        "    'is_alive': True\n",
        "}\n",
        "\n",
        "# Print name and level in a formatted string\n",
        "print(f\"Character: {character_profile['name']}, Level: {character_profile['level']}\")\n",
        "\n",
        "\n",
        "# Update health\n",
        "character_profile['health'] = 85\n",
        "\n",
        "# Add experience key\n",
        "character_profile['experience'] = 0\n",
        "\n",
        "# Print final dictionary\n",
        "print(\"Final Character Profile:\", character_profile)\n"
      ],
      "metadata": {
        "colab": {
          "base_uri": "https://localhost:8080/"
        },
        "id": "rlkFyO8GzWPN",
        "outputId": "9aca7fcd-7e6e-4a23-9b25-d999453b07ae"
      },
      "execution_count": 3,
      "outputs": [
        {
          "output_type": "stream",
          "name": "stdout",
          "text": [
            "Character: Alistair the Brave, Level: 1\n",
            "Final Character Profile: {'name': 'Alistair the Brave', 'level': 1, 'health': 85, 'mana': 50, 'gold': 50.75, 'is_alive': True, 'experience': 0}\n"
          ]
        }
      ]
    },
    {
      "cell_type": "code",
      "source": [
        "# ------------------------------------------------------------\n",
        "# Part 2: Inventory System (List)\n",
        "# ------------------------------------------------------------\n",
        "\n",
        "inventory = ['sword', 'shield', 'health potion']\n",
        "\n",
        "# Add new item\n",
        "inventory.append('mana potion')\n",
        "\n",
        "# Remove an existing item\n",
        "inventory.remove('shield')\n",
        "\n",
        "# Print all items\n",
        "print(\"\\nInventory:\")\n",
        "for item in inventory:\n",
        "    print(\"-\", item)\n"
      ],
      "metadata": {
        "colab": {
          "base_uri": "https://localhost:8080/"
        },
        "id": "hBeQUYJWz5Cl",
        "outputId": "8edeaaf6-d5b4-4e7d-e451-f13108467c99"
      },
      "execution_count": 4,
      "outputs": [
        {
          "output_type": "stream",
          "name": "stdout",
          "text": [
            "\n",
            "Inventory:\n",
            "- sword\n",
            "- health potion\n",
            "- mana potion\n"
          ]
        }
      ]
    },
    {
      "cell_type": "code",
      "source": [
        "# ------------------------------------------------------------\n",
        "# Part 3: Character Stats (Tuple)\n",
        "# ------------------------------------------------------------\n",
        "\n",
        "# Tuples are immutable, making them ideal for unchanging stats\n",
        "base_stats = (10, 8, 12)  # (strength, dexterity, intelligence)\n",
        "\n",
        "print(\"\\nTuples are a good choice for base stats because they are immutable (cannot be changed).\")\n",
        "print(f\"Intelligence stat: {base_stats[2]}\")\n",
        "\n",
        "# Challenge: Trying to change a tuple value\n",
        "try:\n",
        "    base_stats[0] = 15\n",
        "except TypeError as e:\n",
        "    print(\"Error when trying to modify tuple:\", e)"
      ],
      "metadata": {
        "colab": {
          "base_uri": "https://localhost:8080/"
        },
        "id": "reeuXqlR0NFW",
        "outputId": "ae2959ad-bb87-4771-b7a9-26e09f4aebda"
      },
      "execution_count": 5,
      "outputs": [
        {
          "output_type": "stream",
          "name": "stdout",
          "text": [
            "\n",
            "Tuples are a good choice for base stats because they are immutable (cannot be changed).\n",
            "Intelligence stat: 12\n",
            "Error when trying to modify tuple: 'tuple' object does not support item assignment\n"
          ]
        }
      ]
    },
    {
      "cell_type": "code",
      "source": [
        "# ------------------------------------------------------------\n",
        "# Part 4: Quest Log (Set)\n",
        "# ------------------------------------------------------------\n",
        "\n",
        "quest_log = {'Defeat the Goblin King', 'Find the Lost Amulet'}\n",
        "\n",
        "# Add new quest\n",
        "quest_log.add('Deliver the Old Scroll')\n",
        "\n",
        "# Add duplicate quest\n",
        "quest_log.add('Defeat the Goblin King')  # ignored automatically\n",
        "\n",
        "# Remove a completed quest\n",
        "quest_log.remove('Find the Lost Amulet')\n",
        "\n",
        "print(\"\\nQuest Log:\", quest_log)\n"
      ],
      "metadata": {
        "colab": {
          "base_uri": "https://localhost:8080/"
        },
        "id": "hDaz_go20eZF",
        "outputId": "0d3590f4-1384-463f-cc8a-33c70ce87e86"
      },
      "execution_count": 6,
      "outputs": [
        {
          "output_type": "stream",
          "name": "stdout",
          "text": [
            "\n",
            "Quest Log: {'Deliver the Old Scroll', 'Defeat the Goblin King'}\n"
          ]
        }
      ]
    },
    {
      "cell_type": "code",
      "source": [
        "# ------------------------------------------------------------\n",
        "# Part 5: Putting it all together (Nested Dictionary)\n",
        "# ------------------------------------------------------------\n",
        "\n",
        "character_sheet = {\n",
        "    'profile': character_profile,\n",
        "    'inventory': inventory,\n",
        "    'stats': base_stats,\n",
        "    'quests': quest_log\n",
        "}\n",
        "\n",
        "print(\"\\nComplete Character Sheet:\")\n",
        "print(character_sheet)"
      ],
      "metadata": {
        "colab": {
          "base_uri": "https://localhost:8080/"
        },
        "id": "5YPilfQq0oNl",
        "outputId": "ea1f45f2-3018-4e7c-9316-e55c0e717536"
      },
      "execution_count": 7,
      "outputs": [
        {
          "output_type": "stream",
          "name": "stdout",
          "text": [
            "\n",
            "Complete Character Sheet:\n",
            "{'profile': {'name': 'Alistair the Brave', 'level': 1, 'health': 85, 'mana': 50, 'gold': 50.75, 'is_alive': True, 'experience': 0}, 'inventory': ['sword', 'health potion', 'mana potion'], 'stats': (10, 8, 12), 'quests': {'Deliver the Old Scroll', 'Defeat the Goblin King'}}\n"
          ]
        }
      ]
    }
  ]
}