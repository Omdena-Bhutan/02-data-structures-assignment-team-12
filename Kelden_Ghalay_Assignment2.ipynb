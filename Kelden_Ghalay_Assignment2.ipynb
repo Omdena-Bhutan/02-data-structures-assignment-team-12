{
  "nbformat": 4,
  "nbformat_minor": 0,
  "metadata": {
    "colab": {
      "provenance": [],
      "authorship_tag": "ABX9TyM3xgCVYKLYxygApBuYellI",
      "include_colab_link": true
    },
    "kernelspec": {
      "name": "python3",
      "display_name": "Python 3"
    },
    "language_info": {
      "name": "python"
    }
  },
  "cells": [
    {
      "cell_type": "markdown",
      "metadata": {
        "id": "view-in-github",
        "colab_type": "text"
      },
      "source": [
        "<a href=\"https://colab.research.google.com/github/Omdena-Bhutan/02-data-structures-assignment-team-12/blob/Kelden-Ghalay/Kelden_Ghalay_Assignment2.ipynb\" target=\"_parent\"><img src=\"https://colab.research.google.com/assets/colab-badge.svg\" alt=\"Open In Colab\"/></a>"
      ]
    },
    {
      "cell_type": "markdown",
      "source": [
        "# Fantasy Quest Inventory Management System"
      ],
      "metadata": {
        "id": "WkF7ix-tarLg"
      }
    },
    {
      "cell_type": "code",
      "execution_count": 2,
      "metadata": {
        "id": "4zRqzOEoX6xF"
      },
      "outputs": [],
      "source": [
        "# Part 1\n",
        "\n",
        "character_profile = {\n",
        "    \"name\": \"Alistair the Brave\",\n",
        "    \"level\": 1,\n",
        "    \"health\": 100,\n",
        "    \"mana\": 50,\n",
        "    \"gold\": 50.75,\n",
        "    \"is_alive\": True\n",
        "}"
      ]
    },
    {
      "cell_type": "code",
      "source": [
        "# Tasks\n",
        "print(f\"Character Name:{character_profile[\"name\"]}\")\n",
        "print(f\"Character Level: {character_profile[\"level\"]}\")\n"
      ],
      "metadata": {
        "id": "54uHtHlIcX0M",
        "colab": {
          "base_uri": "https://localhost:8080/"
        },
        "outputId": "3a2d1ca2-3a0c-4055-ffe5-eaf2cc521a11"
      },
      "execution_count": 8,
      "outputs": [
        {
          "output_type": "stream",
          "name": "stdout",
          "text": [
            "Character Name:Alistair the Brave\n",
            "Character Level: 1\n"
          ]
        }
      ]
    },
    {
      "cell_type": "code",
      "source": [
        "character_profile[\"health\"] = 85"
      ],
      "metadata": {
        "id": "VUqiwHeSztXh"
      },
      "execution_count": 9,
      "outputs": []
    },
    {
      "cell_type": "code",
      "source": [
        "character_profile[\"experience\"] = 0"
      ],
      "metadata": {
        "id": "LO37f1Bg0GUp"
      },
      "execution_count": 10,
      "outputs": []
    },
    {
      "cell_type": "code",
      "source": [
        "print(f\"The Final Character Profile Dictionary: \\n{character_profile}\")"
      ],
      "metadata": {
        "colab": {
          "base_uri": "https://localhost:8080/"
        },
        "id": "8GJ1oUcg0i5o",
        "outputId": "7ae34060-d1a7-4094-a015-a836e3e2c44a"
      },
      "execution_count": 13,
      "outputs": [
        {
          "output_type": "stream",
          "name": "stdout",
          "text": [
            "The Final Character Profile Dictionary: \n",
            "{'name': 'Alistair the Brave', 'level': 1, 'health': 85, 'mana': 50, 'gold': 50.75, 'is_alive': True, 'experience': 0}\n"
          ]
        }
      ]
    },
    {
      "cell_type": "code",
      "source": [
        "# Part 2\n",
        "# Tasks\n",
        "inventory = ['sword', 'shield', 'health potion']"
      ],
      "metadata": {
        "id": "PQbbXN6F0xPr"
      },
      "execution_count": 16,
      "outputs": []
    },
    {
      "cell_type": "code",
      "source": [
        "inventory.append('mana potion')"
      ],
      "metadata": {
        "id": "f27YeU0V1BOH"
      },
      "execution_count": 17,
      "outputs": []
    },
    {
      "cell_type": "code",
      "source": [
        "inventory.remove('shield')"
      ],
      "metadata": {
        "id": "S13bdwWL1byc"
      },
      "execution_count": 18,
      "outputs": []
    },
    {
      "cell_type": "code",
      "source": [
        "print(\"Inventory Items:\")\n",
        "for item in inventory:\n",
        "  print(item)"
      ],
      "metadata": {
        "colab": {
          "base_uri": "https://localhost:8080/"
        },
        "id": "411YN79a1gx3",
        "outputId": "24d0561a-9f58-48ca-aa0e-6b420b0360f7"
      },
      "execution_count": 21,
      "outputs": [
        {
          "output_type": "stream",
          "name": "stdout",
          "text": [
            "Inventory Items:\n",
            "sword\n",
            "health potion\n",
            "mana potion\n"
          ]
        }
      ]
    },
    {
      "cell_type": "code",
      "source": [
        "# Part 3\n",
        "# Base stats contain Alistair's Base Attributes, they are strength, dexterity and intelligence\n",
        "base_stats = (10, 8, 12)"
      ],
      "metadata": {
        "id": "8Hg0Bm8g1nM0"
      },
      "execution_count": 23,
      "outputs": []
    },
    {
      "cell_type": "code",
      "source": [
        "print(\"Why Tuples is a good choice for Base Stats?\\n\")\n",
        "print(\"Because they are immutable and won't change.\")"
      ],
      "metadata": {
        "colab": {
          "base_uri": "https://localhost:8080/"
        },
        "id": "xwqy0ClX13qj",
        "outputId": "8c9bf415-1b9c-4b47-b9d1-a59b9a27b682"
      },
      "execution_count": 27,
      "outputs": [
        {
          "output_type": "stream",
          "name": "stdout",
          "text": [
            "Why Tuples is a good choice for Base Stats?\n",
            "\n",
            "Because they are immutable and won't change.\n"
          ]
        }
      ]
    },
    {
      "cell_type": "code",
      "source": [
        "print(f\"Value of intelligence: {base_stats[2]}\")"
      ],
      "metadata": {
        "colab": {
          "base_uri": "https://localhost:8080/"
        },
        "id": "1_rQhBq32pd9",
        "outputId": "2af84909-4cc1-461a-ce1c-32b57265000c"
      },
      "execution_count": 28,
      "outputs": [
        {
          "output_type": "stream",
          "name": "stdout",
          "text": [
            "Value of intelligence: 12\n"
          ]
        }
      ]
    },
    {
      "cell_type": "code",
      "source": [
        "base_stats[0] = 2"
      ],
      "metadata": {
        "colab": {
          "base_uri": "https://localhost:8080/",
          "height": 141
        },
        "id": "v_KqEEmK2-gE",
        "outputId": "c2a75992-9e57-480d-db78-8b90d81bf8b3"
      },
      "execution_count": 29,
      "outputs": [
        {
          "output_type": "error",
          "ename": "TypeError",
          "evalue": "'tuple' object does not support item assignment",
          "traceback": [
            "\u001b[0;31m---------------------------------------------------------------------------\u001b[0m",
            "\u001b[0;31mTypeError\u001b[0m                                 Traceback (most recent call last)",
            "\u001b[0;32m/tmp/ipython-input-4259074791.py\u001b[0m in \u001b[0;36m<cell line: 0>\u001b[0;34m()\u001b[0m\n\u001b[0;32m----> 1\u001b[0;31m \u001b[0mbase_stats\u001b[0m\u001b[0;34m[\u001b[0m\u001b[0;36m0\u001b[0m\u001b[0;34m]\u001b[0m \u001b[0;34m=\u001b[0m \u001b[0;36m2\u001b[0m\u001b[0;34m\u001b[0m\u001b[0;34m\u001b[0m\u001b[0m\n\u001b[0m",
            "\u001b[0;31mTypeError\u001b[0m: 'tuple' object does not support item assignment"
          ]
        }
      ]
    },
    {
      "cell_type": "code",
      "source": [
        "# You're getting a TypeError because you're trying to change a value inside a tuple (base_stats[0] = 2). Tuples are immutable in Python, meaning their contents cannot be changed after they are created."
      ],
      "metadata": {
        "id": "iet78sVJ3H0r"
      },
      "execution_count": 30,
      "outputs": []
    },
    {
      "cell_type": "code",
      "source": [
        "# Part 4\n",
        "quest_log = {'Defeat the Goblin King', 'Find the Lost Amulet'}"
      ],
      "metadata": {
        "id": "a2sdsrON3SRV"
      },
      "execution_count": 31,
      "outputs": []
    },
    {
      "cell_type": "code",
      "source": [
        "quest_log.add('Deliver the Old Scroll')"
      ],
      "metadata": {
        "id": "1AvUgnAA3mWV"
      },
      "execution_count": 32,
      "outputs": []
    },
    {
      "cell_type": "code",
      "source": [
        "quest_log.add('Defeat the Goblin King')\n",
        "print(quest_log)"
      ],
      "metadata": {
        "colab": {
          "base_uri": "https://localhost:8080/"
        },
        "id": "Jce3sTnV3vKW",
        "outputId": "aea069aa-1753-4891-bdb8-0029fb5d2e02"
      },
      "execution_count": 34,
      "outputs": [
        {
          "output_type": "stream",
          "name": "stdout",
          "text": [
            "{'Deliver the Old Scroll', 'Find the Lost Amulet', 'Defeat the Goblin King'}\n"
          ]
        }
      ]
    },
    {
      "cell_type": "code",
      "source": [
        "quest_log.remove('Find the Lost Amulet')"
      ],
      "metadata": {
        "id": "_t3NQqi2311h"
      },
      "execution_count": 35,
      "outputs": []
    },
    {
      "cell_type": "code",
      "source": [
        "print(f\"The final quest log set: \\n{quest_log}\")"
      ],
      "metadata": {
        "colab": {
          "base_uri": "https://localhost:8080/"
        },
        "id": "5Xe1d6UG4MKI",
        "outputId": "ab7c2c68-ad57-46ad-f4a8-fc299fb3e913"
      },
      "execution_count": 36,
      "outputs": [
        {
          "output_type": "stream",
          "name": "stdout",
          "text": [
            "The final quest log set: \n",
            "{'Deliver the Old Scroll', 'Defeat the Goblin King'}\n"
          ]
        }
      ]
    },
    {
      "cell_type": "code",
      "source": [
        "# Part 5\n",
        "character_sheet = {\n",
        "    'profile' : character_profile,\n",
        "    'inventory' : inventory,\n",
        "    'base_stats' : base_stats,\n",
        "    'quest_log' : quest_log\n",
        "}\n"
      ],
      "metadata": {
        "id": "56ozo6ME4SGP"
      },
      "execution_count": 38,
      "outputs": []
    },
    {
      "cell_type": "code",
      "source": [
        "print(f\"The Final Character Sheet: \\n{character_sheet}\")"
      ],
      "metadata": {
        "colab": {
          "base_uri": "https://localhost:8080/"
        },
        "id": "59_8nbLS4UXm",
        "outputId": "0b9e3698-9b46-45bb-eb95-a8a4e4068d43"
      },
      "execution_count": 39,
      "outputs": [
        {
          "output_type": "stream",
          "name": "stdout",
          "text": [
            "The Final Character Sheet: \n",
            "{'profile': {'name': 'Alistair the Brave', 'level': 1, 'health': 85, 'mana': 50, 'gold': 50.75, 'is_alive': True, 'experience': 0}, 'inventory': ['sword', 'health potion', 'mana potion'], 'base_stats': (10, 8, 12), 'quest_log': {'Deliver the Old Scroll', 'Defeat the Goblin King'}}\n"
          ]
        }
      ]
    },
    {
      "cell_type": "code",
      "source": [],
      "metadata": {
        "id": "6lYr0Ozo4zaH"
      },
      "execution_count": null,
      "outputs": []
    }
  ]
}